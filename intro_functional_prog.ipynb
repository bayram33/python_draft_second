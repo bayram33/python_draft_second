{
 "cells": [
  {
   "cell_type": "markdown",
   "metadata": {},
   "source": [
    "## Syntax of Lambda \n",
    "* lambda x1,x2,x3....,xn : expression"
   ]
  },
  {
   "cell_type": "code",
   "execution_count": 27,
   "metadata": {},
   "outputs": [
    {
     "data": {
      "text/plain": [
       "5"
      ]
     },
     "execution_count": 27,
     "metadata": {},
     "output_type": "execute_result"
    }
   ],
   "source": [
    "# without lambda funcion \n",
    "def f(x):\n",
    "    return 2 * x + 1\n",
    "\n",
    "\n",
    "f(2)"
   ]
  },
  {
   "cell_type": "code",
   "execution_count": 3,
   "metadata": {},
   "outputs": [
    {
     "data": {
      "text/plain": [
       "5"
      ]
     },
     "execution_count": 3,
     "metadata": {},
     "output_type": "execute_result"
    }
   ],
   "source": [
    "g= lambda x: 2*x+1\n",
    "g(2)"
   ]
  },
  {
   "cell_type": "code",
   "execution_count": 11,
   "metadata": {},
   "outputs": [
    {
     "data": {
      "text/plain": [
       "'what is your purpose'"
      ]
     },
     "execution_count": 11,
     "metadata": {},
     "output_type": "execute_result"
    }
   ],
   "source": [
    "f=lambda:\"what is your purpose\"\n",
    "f()\n"
   ]
  },
  {
   "cell_type": "code",
   "execution_count": 20,
   "metadata": {},
   "outputs": [
    {
     "data": {
      "text/plain": [
       "[1, 3, 8, 9, 11, 12, 43, 53, 72, 87]"
      ]
     },
     "execution_count": 20,
     "metadata": {},
     "output_type": "execute_result"
    }
   ],
   "source": [
    "num_age=[12,3,1,87,8,9,43,11,53,72]\n",
    "num_age.sort(key=lambda x:x)\n",
    "num_age"
   ]
  },
  {
   "cell_type": "code",
   "execution_count": 22,
   "metadata": {},
   "outputs": [
    {
     "data": {
      "text/plain": [
       "['kenan almadıogullarından',\n",
       " 'hazer almasandov',\n",
       " 'kader il',\n",
       " 'bayram salman',\n",
       " 'bakır çay']"
      ]
     },
     "execution_count": 22,
     "metadata": {},
     "output_type": "execute_result"
    }
   ],
   "source": [
    "authors=[\"bayram salman\",\"bakır çay\",\"hazer almasandov\",\"kader il\",\"kenan almadıogullarından\"]\n",
    "authors.sort(key= lambda name:name.split(\" \")[-1].lower())\n",
    "authors"
   ]
  },
  {
   "cell_type": "code",
   "execution_count": 26,
   "metadata": {},
   "outputs": [
    {
     "data": {
      "text/plain": [
       "[('dd', 1), ('a', 2), ('d', 3), ('v', 4)]"
      ]
     },
     "execution_count": 26,
     "metadata": {},
     "output_type": "execute_result"
    }
   ],
   "source": [
    "random = [( \"a\",2), ( \"d\",3), (\"v\",4), ( \"dd\",1)]\n",
    "random.sort(key=lambda num: num[-1])\n",
    "random"
   ]
  },
  {
   "cell_type": "code",
   "execution_count": 24,
   "metadata": {},
   "outputs": [
    {
     "data": {
      "text/plain": [
       "[(1, 'dd'), (2, 'a'), (3, 'd'), (4, 'v')]"
      ]
     },
     "execution_count": 24,
     "metadata": {},
     "output_type": "execute_result"
    }
   ],
   "source": [
    "random = [(2, \"a\"), (3, \"d\"), (4, \"v\"), (1, \"dd\")]\n",
    "random.sort(key=lambda num: num[0])\n",
    "random"
   ]
  },
  {
   "cell_type": "code",
   "execution_count": 17,
   "metadata": {},
   "outputs": [
    {
     "data": {
      "text/plain": [
       "[{'Name': 'John Hopkins', 'age': 18, 'salary': 1000},\n",
       " {'Name': 'Alan Turing', 'age': 25, 'salary': 10000},\n",
       " {'Name': 'Sharon Lin', 'age': 30, 'salary': 8000},\n",
       " {'Name': 'Mikhail Tal', 'age': 40, 'salary': 15000}]"
      ]
     },
     "execution_count": 17,
     "metadata": {},
     "output_type": "execute_result"
    }
   ],
   "source": [
    "employees = [\n",
    "    {'Name': 'Alan Turing', 'age': 25, 'salary': 10000},\n",
    "    {'Name': 'Sharon Lin', 'age': 30, 'salary': 8000},\n",
    "    {'Name': 'John Hopkins', 'age': 18, 'salary': 1000},\n",
    "    {'Name': 'Mikhail Tal', 'age': 40, 'salary': 15000},\n",
    "]\n",
    "\n",
    "employees.sort(key= lambda age:age.get(\"age\"))\n",
    "employees"
   ]
  },
  {
   "cell_type": "markdown",
   "metadata": {},
   "source": [
    "## Map Function\n",
    "* map(fun, iter)"
   ]
  },
  {
   "cell_type": "code",
   "execution_count": 31,
   "metadata": {},
   "outputs": [
    {
     "name": "stdout",
     "output_type": "stream",
     "text": [
      " 1. value is  11\n",
      " 2. value is  12\n",
      " 3. value is  13\n",
      " 4. value is  14\n",
      " 5. value is  15\n"
     ]
    }
   ],
   "source": [
    "# without map \n",
    "\n",
    "my_list=[1,2,3,4,5]\n",
    "for val in my_list:\n",
    "    print( f\" {val}. value is  {val+10}\")"
   ]
  },
  {
   "cell_type": "code",
   "execution_count": 36,
   "metadata": {},
   "outputs": [
    {
     "name": "stdout",
     "output_type": "stream",
     "text": [
      "[11, 12, 13, 14, 15]\n"
     ]
    }
   ],
   "source": [
    "# with map \n",
    "a=map(lambda x : x+10 , my_list)\n",
    "print(list(a))"
   ]
  },
  {
   "cell_type": "code",
   "execution_count": 40,
   "metadata": {},
   "outputs": [
    {
     "name": "stdout",
     "output_type": "stream",
     "text": [
      "[11, 12, 13, 14, 15]\n"
     ]
    }
   ],
   "source": [
    "# with map but without lambda\n",
    "def addition(n):\n",
    "    return n + 10\n",
    "\n",
    "\n",
    "result = map(addition, my_list)\n",
    "print(list(result))"
   ]
  },
  {
   "cell_type": "code",
   "execution_count": 41,
   "metadata": {},
   "outputs": [
    {
     "name": "stdout",
     "output_type": "stream",
     "text": [
      "[44, 35, 47, 55]\n"
     ]
    }
   ],
   "source": [
    "numbers_1 = [12, 32, 43, 54]\n",
    "numbers_2 = [32, 3, 4, 1]\n",
    "\n",
    "a = map(lambda x, y: x + y, numbers_1, numbers_2)\n",
    "print(list(a))"
   ]
  },
  {
   "cell_type": "code",
   "execution_count": 42,
   "metadata": {},
   "outputs": [
    {
     "name": "stdout",
     "output_type": "stream",
     "text": [
      "[1, 4, 3, 8, 5, 12, 7, 16, 9, 20]\n"
     ]
    }
   ],
   "source": [
    "my_array = [1, 2, 3, 4, 5, 6, 7, 8, 9, 10]\n",
    "\n",
    "\n",
    "def even(num):\n",
    "    if num % 2 == 0:\n",
    "        return num * 2\n",
    "    else:\n",
    "        return num\n",
    "\n",
    "\n",
    "conclusion=map(even, my_array)\n",
    "print(list(conclusion))"
   ]
  },
  {
   "cell_type": "markdown",
   "metadata": {},
   "source": [
    "## Filter Function"
   ]
  },
  {
   "cell_type": "code",
   "execution_count": 6,
   "metadata": {},
   "outputs": [
    {
     "name": "stdout",
     "output_type": "stream",
     "text": [
      "[32, 23, 55, 61, 43, 18, 21, 34, 38]\n"
     ]
    }
   ],
   "source": [
    "ages_of_employes = [32, 3, 2, 1, 23, 55, 61, 43, 18, 21, 34, 38, 1, 2, 3, 4]\n",
    "\n",
    "\n",
    "def isLegalAge(x):\n",
    "    if x >= 18:\n",
    "        return x\n",
    "\n",
    "\n",
    "result = filter(isLegalAge, ages_of_employes)\n",
    "print(list(result))"
   ]
  },
  {
   "cell_type": "code",
   "execution_count": 7,
   "metadata": {},
   "outputs": [
    {
     "name": "stdout",
     "output_type": "stream",
     "text": [
      "[32, 23, 55, 61, 43, 18, 21, 34, 38]\n"
     ]
    }
   ],
   "source": [
    "ages_of_employes = [32, 3, 2, 1, 23, 55, 61, 43, 18, 21, 34, 38, 1, 2, 3, 4]\n",
    "\n",
    "a = filter(lambda x: x >= 18, ages_of_employes)\n",
    "print(list(a))"
   ]
  },
  {
   "cell_type": "code",
   "execution_count": 9,
   "metadata": {},
   "outputs": [
    {
     "name": "stdout",
     "output_type": "stream",
     "text": [
      "[3, 18, 21, 3]\n"
     ]
    }
   ],
   "source": [
    "ages_of_employes = [32, 3, 2, 1, 23, 55, 61, 43, 18, 21, 34, 38, 1, 2, 3, 4]\n",
    "\n",
    "b = filter(lambda x: x % 3 == 0, ages_of_employes)\n",
    "print(list(b))"
   ]
  },
  {
   "cell_type": "markdown",
   "metadata": {},
   "source": [
    "## Reduce Function"
   ]
  },
  {
   "cell_type": "code",
   "execution_count": 13,
   "metadata": {},
   "outputs": [
    {
     "name": "stdout",
     "output_type": "stream",
     "text": [
      "21\n"
     ]
    }
   ],
   "source": [
    "# Ternary operator\n",
    "a, b = 10, 21\n",
    "res = a if a > b else b\n",
    "print(res)"
   ]
  },
  {
   "cell_type": "code",
   "execution_count": 15,
   "metadata": {},
   "outputs": [
    {
     "name": "stdout",
     "output_type": "stream",
     "text": [
      "Number 1 is odd\n",
      "Number 2 is even\n",
      "Number 3 is odd\n",
      "Number 4 is even\n",
      "Number 5 is odd\n",
      "Number 6 is even\n",
      "Number 7 is odd\n",
      "Number 8 is even\n",
      "Number 9 is odd\n",
      "Number 10 is even\n"
     ]
    }
   ],
   "source": [
    "# Ternary operator\n",
    "data = [1, 2, 3, 4, 5, 6, 7, 8, 9, 10]\n",
    "for i in data:\n",
    "    result = \"even\" if i % 2 == 0 else \"odd\"\n",
    "    print(f\"Number {i} is {result}\")"
   ]
  },
  {
   "cell_type": "code",
   "execution_count": 27,
   "metadata": {},
   "outputs": [
    {
     "name": "stdout",
     "output_type": "stream",
     "text": [
      "\n",
      "      The sum of the list 30 \n",
      "\n",
      "      The min element of list 0\n",
      "\n",
      "      The max element of list 8\n",
      "    \n"
     ]
    }
   ],
   "source": [
    "import functools\n",
    "\n",
    "lis = [3, 4, 5, 7, 8, 0, 2, 1]\n",
    "result = functools.reduce(lambda a, b: a + b, lis)\n",
    "num_min = functools.reduce(lambda a, b: a if a < b else b, lis)\n",
    "num_max = functools.reduce(lambda a, b: a if a > b else b, lis)\n",
    "print(\n",
    "    f\"\"\"\n",
    "      The sum of the list {result} \\n\n",
    "      The min element of list {num_min}\\n\n",
    "      The max element of list {num_max}\n",
    "    \"\"\"\n",
    ")"
   ]
  },
  {
   "cell_type": "code",
   "execution_count": null,
   "metadata": {},
   "outputs": [],
   "source": []
  }
 ],
 "metadata": {
  "kernelspec": {
   "display_name": "Python 3",
   "language": "python",
   "name": "python3"
  },
  "language_info": {
   "codemirror_mode": {
    "name": "ipython",
    "version": 3
   },
   "file_extension": ".py",
   "mimetype": "text/x-python",
   "name": "python",
   "nbconvert_exporter": "python",
   "pygments_lexer": "ipython3",
   "version": "3.11.1"
  },
  "orig_nbformat": 4
 },
 "nbformat": 4,
 "nbformat_minor": 2
}
